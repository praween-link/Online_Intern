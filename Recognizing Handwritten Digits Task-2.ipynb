{
 "cells": [
  {
   "cell_type": "markdown",
   "metadata": {},
   "source": [
    "## <center><b>Recognizing Handwritten Digits</b></center>\n",
    "<hr>\n",
    "<center><b><u>Handwriting Recognition</u></b></center>\n",
    "\n",
    "1. Load images data\n",
    "2. Display first sample digit from dataset as image and pixel values\n",
    "3. Diaplay Multiple digits from dataset along with labels\n",
    "4. Take randomly data for train and test\n",
    "5. Define Support Vector Classifier Model with linear kernel\n",
    "6. Define Kernel type RBF Model\n",
    "7. Define Kernel type Logistic Regression"
   ]
  },
  {
   "cell_type": "code",
   "execution_count": 1,
   "metadata": {},
   "outputs": [],
   "source": [
    "import pandas as pd\n",
    "import matplotlib.pyplot as plt\n",
    "%matplotlib inline\n",
    "import pylab as pl\n",
    "from sklearn.datasets import load_digits\n",
    "from sklearn.model_selection import train_test_split\n",
    "from sklearn import svm"
   ]
  },
  {
   "cell_type": "markdown",
   "metadata": {},
   "source": [
    "## Load images data"
   ]
  },
  {
   "cell_type": "code",
   "execution_count": 2,
   "metadata": {},
   "outputs": [],
   "source": [
    "# from sklearn.datasets import load_digits\n",
    "digits_data = load_digits()"
   ]
  },
  {
   "cell_type": "markdown",
   "metadata": {},
   "source": [
    "## <u>Display first sample digit from dataset as image</u>"
   ]
  },
  {
   "cell_type": "code",
   "execution_count": 3,
   "metadata": {},
   "outputs": [
    {
     "data": {
      "text/plain": [
       "<Figure size 432x288 with 0 Axes>"
      ]
     },
     "metadata": {},
     "output_type": "display_data"
    },
    {
     "data": {
      "image/png": "[encoded data removed]",
      "text/plain": [
       "<Figure size 288x288 with 1 Axes>"
      ]
     },
     "metadata": {
      "needs_background": "light"
     },
     "output_type": "display_data"
    }
   ],
   "source": [
    "#import pylab as pl\n",
    "pl.gray()\n",
    "pl.matshow(digits_data.images[110])\n",
    "pl.show()"
   ]
  },
  {
   "cell_type": "markdown",
   "metadata": {},
   "source": [
    "*This dataset consists of 1,797 images that are 8x8 pixels in size. This image is a sample for example.*"
   ]
  },
  {
   "cell_type": "markdown",
   "metadata": {},
   "source": [
    "### See to the pixel values of above sample digit"
   ]
  },
  {
   "cell_type": "code",
   "execution_count": 4,
   "metadata": {},
   "outputs": [
    {
     "data": {
      "text/plain": [
       "array([[ 0.,  0.,  0.,  8., 15.,  1.,  0.,  0.],\n",
       "       [ 0.,  0.,  1., 14., 13.,  1.,  1.,  0.],\n",
       "       [ 0.,  0., 10., 15.,  3., 15., 11.,  0.],\n",
       "       [ 0.,  7., 16.,  7.,  1., 16.,  8.,  0.],\n",
       "       [ 0.,  9., 16., 13., 14., 16.,  5.,  0.],\n",
       "       [ 0.,  1., 10., 15., 16., 14.,  0.,  0.],\n",
       "       [ 0.,  0.,  0.,  1., 16., 10.,  0.,  0.],\n",
       "       [ 0.,  0.,  0., 10., 15.,  4.,  0.,  0.]])"
      ]
     },
     "execution_count": 4,
     "metadata": {},
     "output_type": "execute_result"
    }
   ],
   "source": [
    "digits_data.images[14]"
   ]
  },
  {
   "cell_type": "markdown",
   "metadata": {},
   "source": [
    "## <u>Diaplay Multiple digits from dataset along with labels</u>"
   ]
  },
  {
   "cell_type": "code",
   "execution_count": 5,
   "metadata": {},
   "outputs": [
    {
     "data": {
      "image/png": "[encoded data removed]",
      "text/plain": [
       "<Figure size 576x576 with 9 Axes>"
      ]
     },
     "metadata": {
      "needs_background": "light"
     },
     "output_type": "display_data"
    }
   ],
   "source": [
    "images_and_labels = list(zip(digits_data.images, digits_data.target))\n",
    "plt.figure(figsize=(8,8))\n",
    "for index, (image, label) in enumerate(images_and_labels[:9]):\n",
    "    plt.subplot(3, 3, index + 1)\n",
    "#     plt.axis('off')\n",
    "    plt.imshow(image, cmap=plt.cm.gray_r, interpolation='nearest')\n",
    "    plt.title('%i' % label)"
   ]
  },
  {
   "cell_type": "code",
   "execution_count": 6,
   "metadata": {},
   "outputs": [
    {
     "data": {
      "text/plain": [
       "1797"
      ]
     },
     "execution_count": 6,
     "metadata": {},
     "output_type": "execute_result"
    }
   ],
   "source": [
    "len(digits_data.images)"
   ]
  },
  {
   "cell_type": "markdown",
   "metadata": {},
   "source": [
    "## Take randomly data for train and test"
   ]
  },
  {
   "cell_type": "code",
   "execution_count": 7,
   "metadata": {},
   "outputs": [
    {
     "data": {
      "text/plain": [
       "((1797, 64), (1797,))"
      ]
     },
     "execution_count": 7,
     "metadata": {},
     "output_type": "execute_result"
    }
   ],
   "source": [
    "x, y = digits_data['data'], digits_data['target']\n",
    "x.shape, y.shape"
   ]
  },
  {
   "cell_type": "code",
   "execution_count": 8,
   "metadata": {},
   "outputs": [
    {
     "data": {
      "text/plain": [
       "((1347, 64), (450, 64))"
      ]
     },
     "execution_count": 8,
     "metadata": {},
     "output_type": "execute_result"
    }
   ],
   "source": [
    "x_train, x_test, y_train, y_test = train_test_split(x, y)\n",
    "x_train.shape, x_test.shape"
   ]
  },
  {
   "cell_type": "markdown",
   "metadata": {},
   "source": [
    "## <u>Define Support Vector Classifier Model with linear kernel</u>"
   ]
  },
  {
   "cell_type": "code",
   "execution_count": 9,
   "metadata": {},
   "outputs": [],
   "source": [
    "model_linear = svm.SVC(kernel='linear', degree=3, gamma='scale')\n",
    "model_svc = model_linear.fit(x_train, y_train)"
   ]
  },
  {
   "cell_type": "markdown",
   "metadata": {},
   "source": [
    "**<u style=\"color:blue;\">Predict</u>**"
   ]
  },
  {
   "cell_type": "code",
   "execution_count": 10,
   "metadata": {},
   "outputs": [
    {
     "data": {
      "text/plain": [
       "array([2, 7, 9, 5, 8, 7, 8, 9, 7, 3, 6, 7, 7, 7, 5, 4, 1, 6, 1, 1, 4, 9,\n",
       "       9, 6, 9, 9, 0, 9, 7, 0, 6, 2, 0, 8, 8, 0, 2, 9, 3, 7, 0, 3, 9, 2,\n",
       "       1, 7, 4, 1, 9, 3, 1, 3, 6, 0, 5, 7, 4, 0, 1, 6, 7, 7, 6, 2, 3, 1,\n",
       "       2, 0, 6, 1, 4, 8, 3, 7, 0, 5, 2, 6, 4, 3, 3, 8, 6, 2, 8, 1, 8, 7,\n",
       "       3, 3, 2, 5, 7, 4, 4, 7, 8, 3, 5, 2, 5, 9, 3, 7, 3, 1, 1, 4, 9, 0,\n",
       "       3, 3, 4, 1, 2, 6, 4, 8, 7, 7, 1, 2, 5, 3, 5, 2, 1, 5, 6, 9, 8, 1,\n",
       "       6, 0, 8, 6, 6, 2, 0, 5, 0, 0, 2, 5, 0, 2, 2, 0, 4, 8, 0, 5, 1, 0,\n",
       "       4, 7, 1, 2, 4, 9, 3, 6, 4, 0, 6, 7, 0, 0, 1, 0, 5, 9, 2, 3, 6, 7,\n",
       "       7, 0, 3, 2, 3, 6, 8, 4, 3, 1, 5, 7, 5, 7, 1, 9, 9, 1, 1, 5, 9, 0,\n",
       "       8, 4, 7, 8, 4, 9, 3, 4, 8, 2, 5, 8, 7, 8, 7, 5, 7, 1, 2, 7, 1, 7,\n",
       "       0, 5, 9, 1, 5, 8, 1, 6, 1, 2, 9, 3, 0, 2, 5, 8, 5, 7, 7, 2, 8, 4,\n",
       "       5, 5, 7, 9, 8, 9, 6, 1, 9, 9, 8, 0, 6, 0, 7, 7, 6, 9, 4, 0, 2, 5,\n",
       "       2, 8, 0, 0, 2, 2, 4, 2, 6, 4, 6, 6, 2, 4, 6, 9, 5, 6, 7, 6, 8, 7,\n",
       "       9, 0, 2, 8, 4, 4, 1, 8, 5, 8, 6, 1, 1, 4, 7, 3, 9, 6, 3, 2, 3, 4,\n",
       "       6, 4, 0, 3, 5, 1, 5, 9, 8, 8, 6, 6, 8, 9, 0, 4, 8, 6, 9, 4, 3, 3,\n",
       "       5, 8, 0, 3, 9, 4, 6, 2, 2, 3, 9, 4, 4, 4, 3, 6, 3, 1, 6, 3, 2, 4,\n",
       "       3, 3, 2, 4, 8, 0, 5, 3, 3, 4, 5, 3, 3, 5, 5, 3, 8, 5, 9, 8, 7, 1,\n",
       "       4, 6, 7, 9, 4, 5, 4, 9, 3, 0, 4, 5, 5, 4, 8, 8, 6, 3, 3, 9, 5, 3,\n",
       "       3, 1, 3, 4, 5, 3, 1, 8, 4, 3, 8, 5, 5, 1, 0, 9, 6, 1, 5, 5, 7, 3,\n",
       "       4, 0, 0, 9, 4, 3, 0, 8, 8, 3, 3, 3, 7, 7, 7, 5, 3, 0, 4, 5, 2, 8,\n",
       "       5, 5, 0, 9, 3, 2, 8, 1, 2, 7])"
      ]
     },
     "execution_count": 10,
     "metadata": {},
     "output_type": "execute_result"
    }
   ],
   "source": [
    "model_svc.predict(x_test)"
   ]
  },
  {
   "cell_type": "markdown",
   "metadata": {},
   "source": [
    "**<u style=\"color:blue;\">Evaluate the model using accuracy</u>**"
   ]
  },
  {
   "cell_type": "code",
   "execution_count": 11,
   "metadata": {},
   "outputs": [
    {
     "data": {
      "text/plain": [
       "0.9688888888888889"
      ]
     },
     "execution_count": 11,
     "metadata": {},
     "output_type": "execute_result"
    }
   ],
   "source": [
    "model_svc.score(x_test, y_test)"
   ]
  },
  {
   "cell_type": "markdown",
   "metadata": {},
   "source": [
    "**<u style=\"color:blue;\">Check for prediction from dataset of Support Vector Classifier Model</u>**"
   ]
  },
  {
   "cell_type": "code",
   "execution_count": 12,
   "metadata": {},
   "outputs": [
    {
     "name": "stdout",
     "output_type": "stream",
     "text": [
      "              precision    recall  f1-score   support\n",
      "\n",
      "           0       1.00      1.00      1.00        43\n",
      "           1       0.90      0.95      0.92        38\n",
      "           2       0.97      0.97      0.97        40\n",
      "           3       0.98      0.97      0.97        58\n",
      "           4       1.00      1.00      1.00        48\n",
      "           5       0.98      0.98      0.98        49\n",
      "           6       1.00      1.00      1.00        41\n",
      "           7       1.00      0.98      0.99        47\n",
      "           8       0.87      0.89      0.88        44\n",
      "           9       0.98      0.95      0.96        42\n",
      "\n",
      "    accuracy                           0.97       450\n",
      "   macro avg       0.97      0.97      0.97       450\n",
      "weighted avg       0.97      0.97      0.97       450\n",
      "\n"
     ]
    }
   ],
   "source": [
    "from sklearn.metrics import classification_report\n",
    "predictions = model_svc.predict(x_test)\n",
    "print(classification_report(y_test, predictions))"
   ]
  },
  {
   "cell_type": "markdown",
   "metadata": {},
   "source": [
    "*We got an accuracy score of around 99% on the images dataset. Use Support Vector Classifier Model with linear kernel for Recognizing Handwritten Digits.*"
   ]
  },
  {
   "cell_type": "code",
   "execution_count": null,
   "metadata": {},
   "outputs": [],
   "source": []
  }
 ],
 "metadata": {
  "kernelspec": {
   "display_name": "Python 3",
   "language": "python",
   "name": "python3"
  },
  "language_info": {
   "codemirror_mode": {
    "name": "ipython",
    "version": 3
   },
   "file_extension": ".py",
   "mimetype": "text/x-python",
   "name": "python",
   "nbconvert_exporter": "python",
   "pygments_lexer": "ipython3",
   "version": "3.7.4"
  }
 },
 "nbformat": 4,
 "nbformat_minor": 4
}
